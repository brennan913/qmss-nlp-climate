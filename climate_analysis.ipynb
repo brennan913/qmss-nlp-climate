{
 "cells": [
  {
   "cell_type": "code",
   "execution_count": 36,
   "metadata": {
    "ExecuteTime": {
     "end_time": "2023-12-04T03:01:35.105762Z",
     "start_time": "2023-12-04T03:01:34.603511Z"
    }
   },
   "outputs": [],
   "source": [
    "# 1.\n",
    "from datetime import datetime as dt, timezone\n",
    "import pandas as pd\n",
    "from numpy import argmax\n",
    "import seaborn as sns\n",
    "import matplotlib.pyplot as plt\n",
    "from scipy import stats\n",
    "from statsmodels.tsa.stattools import grangercausalitytests\n",
    "import json"
   ]
  },
  {
   "cell_type": "code",
   "execution_count": 37,
   "metadata": {
    "ExecuteTime": {
     "end_time": "2023-12-04T03:01:35.201857Z",
     "start_time": "2023-12-04T03:01:34.611942Z"
    }
   },
   "outputs": [
    {
     "data": {
      "text/plain": "   index_0    state  index_1  \\\n0        0  Alabama        0   \n1        1  Alabama        1   \n2        2  Alabama        2   \n3        3  Alabama        3   \n4        4  Alabama        4   \n\n                                            abstract  \\\n0  The U.S. had an opportunity to solve the clima...   \n1  Scientists cannot say for sure what causes alg...   \n2  Federer struggled in the nighttime heat and hu...   \n3  A dozen artistic responses to one of the great...   \n4  This week world leaders are meeting in New Yor...   \n\n                                             web_url  \\\n0  https://www.nytimes.com/2018/08/31/podcasts/th...   \n1  https://www.nytimes.com/2018/08/29/science/lak...   \n2  https://www.nytimes.com/2018/09/04/climate/rog...   \n3  https://www.nytimes.com/2018/08/22/t-magazine/...   \n4  https://www.nytimes.com/2018/09/26/climate/cli...   \n\n                                            headline  \\\n0  {'main': 'When We Almost Stopped Climate Chang...   \n1  {'main': 'Algae Bloom in Lake Superior Raises ...   \n2  {'main': 'Roger Federer Is Tough to Beat. Glob...   \n3  {'main': '12 Artists On: Climate Change', 'kic...   \n4  {'main': 'Climate Week, and Telling Stories Wi...   \n\n                                            keywords  \\\n0  [{'name': 'subject', 'value': 'Global Warming'...   \n1  [{'name': 'subject', 'value': 'Lakes', 'rank':...   \n2  [{'name': 'subject', 'value': 'Global Warming'...   \n3  [{'name': 'subject', 'value': 'Art', 'rank': 1...   \n4  [{'name': 'subject', 'value': 'Global Warming'...   \n\n                   pub_date  \\\n0  2018-08-31T09:59:54+0000   \n1  2018-08-29T17:34:54+0000   \n2  2018-09-04T22:16:22+0000   \n3  2018-08-22T15:02:32+0000   \n4  2018-09-26T17:49:12+0000   \n\n                                              byline  word_count  \\\n0  {'original': None, 'person': [], 'organization...         228   \n1  {'original': 'By Christine Hauser', 'person': ...         951   \n2  {'original': 'By Kendra Pierre-Louis', 'person...         591   \n3  {'original': 'By ZoÃ« Lescaze', 'person': [{'f...        2304   \n4  {'original': None, 'person': [], 'organization...         923   \n\n                                                text  \\\n0  When We Almost Stopped Climate Change The U.S....   \n1  In 19 years of piloting his boat around Lake S...   \n2  Want climate news in your inbox? Sign up here ...   \n3  Mel Chin\\n\\nBorn in Houston, Tex., in 1951.\\n\\...   \n4  If youâve ever wondered what itâs like to ...   \n\n                                      tokenized_text   vader vader_discrete  \\\n0  almost stopped climate change u opportunity so... -0.6378       NEGATIVE   \n1  19 year piloting boat around lake superior jod...  0.9519       POSITIVE   \n2  want climate news inbox sign climate fwd email... -0.3612       NEGATIVE   \n3  mel chin born houston tex 1951 new york city c...  0.7579       POSITIVE   \n4  youve ever wondered like work isolated researc...  0.7964       POSITIVE   \n\n  sentiment  \n0  NEGATIVE  \n1  POSITIVE  \n2  NEGATIVE  \n3  NEGATIVE  \n4  POSITIVE  ",
      "text/html": "<div>\n<style scoped>\n    .dataframe tbody tr th:only-of-type {\n        vertical-align: middle;\n    }\n\n    .dataframe tbody tr th {\n        vertical-align: top;\n    }\n\n    .dataframe thead th {\n        text-align: right;\n    }\n</style>\n<table border=\"1\" class=\"dataframe\">\n  <thead>\n    <tr style=\"text-align: right;\">\n      <th></th>\n      <th>index_0</th>\n      <th>state</th>\n      <th>index_1</th>\n      <th>abstract</th>\n      <th>web_url</th>\n      <th>headline</th>\n      <th>keywords</th>\n      <th>pub_date</th>\n      <th>byline</th>\n      <th>word_count</th>\n      <th>text</th>\n      <th>tokenized_text</th>\n      <th>vader</th>\n      <th>vader_discrete</th>\n      <th>sentiment</th>\n    </tr>\n  </thead>\n  <tbody>\n    <tr>\n      <th>0</th>\n      <td>0</td>\n      <td>Alabama</td>\n      <td>0</td>\n      <td>The U.S. had an opportunity to solve the clima...</td>\n      <td>https://www.nytimes.com/2018/08/31/podcasts/th...</td>\n      <td>{'main': 'When We Almost Stopped Climate Chang...</td>\n      <td>[{'name': 'subject', 'value': 'Global Warming'...</td>\n      <td>2018-08-31T09:59:54+0000</td>\n      <td>{'original': None, 'person': [], 'organization...</td>\n      <td>228</td>\n      <td>When We Almost Stopped Climate Change The U.S....</td>\n      <td>almost stopped climate change u opportunity so...</td>\n      <td>-0.6378</td>\n      <td>NEGATIVE</td>\n      <td>NEGATIVE</td>\n    </tr>\n    <tr>\n      <th>1</th>\n      <td>1</td>\n      <td>Alabama</td>\n      <td>1</td>\n      <td>Scientists cannot say for sure what causes alg...</td>\n      <td>https://www.nytimes.com/2018/08/29/science/lak...</td>\n      <td>{'main': 'Algae Bloom in Lake Superior Raises ...</td>\n      <td>[{'name': 'subject', 'value': 'Lakes', 'rank':...</td>\n      <td>2018-08-29T17:34:54+0000</td>\n      <td>{'original': 'By Christine Hauser', 'person': ...</td>\n      <td>951</td>\n      <td>In 19 years of piloting his boat around Lake S...</td>\n      <td>19 year piloting boat around lake superior jod...</td>\n      <td>0.9519</td>\n      <td>POSITIVE</td>\n      <td>POSITIVE</td>\n    </tr>\n    <tr>\n      <th>2</th>\n      <td>2</td>\n      <td>Alabama</td>\n      <td>2</td>\n      <td>Federer struggled in the nighttime heat and hu...</td>\n      <td>https://www.nytimes.com/2018/09/04/climate/rog...</td>\n      <td>{'main': 'Roger Federer Is Tough to Beat. Glob...</td>\n      <td>[{'name': 'subject', 'value': 'Global Warming'...</td>\n      <td>2018-09-04T22:16:22+0000</td>\n      <td>{'original': 'By Kendra Pierre-Louis', 'person...</td>\n      <td>591</td>\n      <td>Want climate news in your inbox? Sign up here ...</td>\n      <td>want climate news inbox sign climate fwd email...</td>\n      <td>-0.3612</td>\n      <td>NEGATIVE</td>\n      <td>NEGATIVE</td>\n    </tr>\n    <tr>\n      <th>3</th>\n      <td>3</td>\n      <td>Alabama</td>\n      <td>3</td>\n      <td>A dozen artistic responses to one of the great...</td>\n      <td>https://www.nytimes.com/2018/08/22/t-magazine/...</td>\n      <td>{'main': '12 Artists On: Climate Change', 'kic...</td>\n      <td>[{'name': 'subject', 'value': 'Art', 'rank': 1...</td>\n      <td>2018-08-22T15:02:32+0000</td>\n      <td>{'original': 'By ZoÃ« Lescaze', 'person': [{'f...</td>\n      <td>2304</td>\n      <td>Mel Chin\\n\\nBorn in Houston, Tex., in 1951.\\n\\...</td>\n      <td>mel chin born houston tex 1951 new york city c...</td>\n      <td>0.7579</td>\n      <td>POSITIVE</td>\n      <td>NEGATIVE</td>\n    </tr>\n    <tr>\n      <th>4</th>\n      <td>4</td>\n      <td>Alabama</td>\n      <td>4</td>\n      <td>This week world leaders are meeting in New Yor...</td>\n      <td>https://www.nytimes.com/2018/09/26/climate/cli...</td>\n      <td>{'main': 'Climate Week, and Telling Stories Wi...</td>\n      <td>[{'name': 'subject', 'value': 'Global Warming'...</td>\n      <td>2018-09-26T17:49:12+0000</td>\n      <td>{'original': None, 'person': [], 'organization...</td>\n      <td>923</td>\n      <td>If youâve ever wondered what itâs like to ...</td>\n      <td>youve ever wondered like work isolated researc...</td>\n      <td>0.7964</td>\n      <td>POSITIVE</td>\n      <td>POSITIVE</td>\n    </tr>\n  </tbody>\n</table>\n</div>"
     },
     "execution_count": 37,
     "metadata": {},
     "output_type": "execute_result"
    }
   ],
   "source": [
    "articles = pd.read_csv('data/sentiment_article_data_new.csv', sep=',', encoding='ISO-8859-1')\n",
    "\n",
    "articles.head()"
   ]
  },
  {
   "cell_type": "code",
   "execution_count": 38,
   "metadata": {
    "ExecuteTime": {
     "end_time": "2023-12-04T03:01:35.210014Z",
     "start_time": "2023-12-04T03:01:34.727101Z"
    }
   },
   "outputs": [
    {
     "data": {
      "text/plain": "      date     state  max_avg_temperature  min_avg_temperature  \\\n0  1950-01       USA                 2.46                -7.38   \n1  1950-01   Alabama                20.03                12.03   \n2  1950-01    Alaska               -11.85               -19.05   \n3  1950-01   Arizona                11.32                -1.62   \n4  1950-01  Arkansas                13.78                 4.84   \n\n   mean_temperature  max_temperature  min_temperature  num_frost_days  \\\n0             -3.15            12.87           -19.08           21.57   \n1             15.29            25.26             0.16            0.81   \n2            -15.64            -2.19           -30.29           30.41   \n3              3.74            20.46           -12.00           17.77   \n4              8.75            25.18            -5.77           10.71   \n\n   num_trop_nights  max_1day_precipitation  max_5day_cumulative_precipitation  \\\n0             0.21                   17.24                              40.60   \n1             0.24                   24.25                              41.76   \n2             0.00                   12.64                              36.80   \n3             0.00                    7.63                              24.52   \n4             0.68                   48.40                             129.40   \n\n   precipitation  \n0          90.09  \n1          99.14  \n2          53.15  \n3          26.25  \n4         299.96  ",
      "text/html": "<div>\n<style scoped>\n    .dataframe tbody tr th:only-of-type {\n        vertical-align: middle;\n    }\n\n    .dataframe tbody tr th {\n        vertical-align: top;\n    }\n\n    .dataframe thead th {\n        text-align: right;\n    }\n</style>\n<table border=\"1\" class=\"dataframe\">\n  <thead>\n    <tr style=\"text-align: right;\">\n      <th></th>\n      <th>date</th>\n      <th>state</th>\n      <th>max_avg_temperature</th>\n      <th>min_avg_temperature</th>\n      <th>mean_temperature</th>\n      <th>max_temperature</th>\n      <th>min_temperature</th>\n      <th>num_frost_days</th>\n      <th>num_trop_nights</th>\n      <th>max_1day_precipitation</th>\n      <th>max_5day_cumulative_precipitation</th>\n      <th>precipitation</th>\n    </tr>\n  </thead>\n  <tbody>\n    <tr>\n      <th>0</th>\n      <td>1950-01</td>\n      <td>USA</td>\n      <td>2.46</td>\n      <td>-7.38</td>\n      <td>-3.15</td>\n      <td>12.87</td>\n      <td>-19.08</td>\n      <td>21.57</td>\n      <td>0.21</td>\n      <td>17.24</td>\n      <td>40.60</td>\n      <td>90.09</td>\n    </tr>\n    <tr>\n      <th>1</th>\n      <td>1950-01</td>\n      <td>Alabama</td>\n      <td>20.03</td>\n      <td>12.03</td>\n      <td>15.29</td>\n      <td>25.26</td>\n      <td>0.16</td>\n      <td>0.81</td>\n      <td>0.24</td>\n      <td>24.25</td>\n      <td>41.76</td>\n      <td>99.14</td>\n    </tr>\n    <tr>\n      <th>2</th>\n      <td>1950-01</td>\n      <td>Alaska</td>\n      <td>-11.85</td>\n      <td>-19.05</td>\n      <td>-15.64</td>\n      <td>-2.19</td>\n      <td>-30.29</td>\n      <td>30.41</td>\n      <td>0.00</td>\n      <td>12.64</td>\n      <td>36.80</td>\n      <td>53.15</td>\n    </tr>\n    <tr>\n      <th>3</th>\n      <td>1950-01</td>\n      <td>Arizona</td>\n      <td>11.32</td>\n      <td>-1.62</td>\n      <td>3.74</td>\n      <td>20.46</td>\n      <td>-12.00</td>\n      <td>17.77</td>\n      <td>0.00</td>\n      <td>7.63</td>\n      <td>24.52</td>\n      <td>26.25</td>\n    </tr>\n    <tr>\n      <th>4</th>\n      <td>1950-01</td>\n      <td>Arkansas</td>\n      <td>13.78</td>\n      <td>4.84</td>\n      <td>8.75</td>\n      <td>25.18</td>\n      <td>-5.77</td>\n      <td>10.71</td>\n      <td>0.68</td>\n      <td>48.40</td>\n      <td>129.40</td>\n      <td>299.96</td>\n    </tr>\n  </tbody>\n</table>\n</div>"
     },
     "execution_count": 38,
     "metadata": {},
     "output_type": "execute_result"
    }
   ],
   "source": [
    "climate_data = pd.read_csv('data/climate_data.csv', sep=',', encoding='ISO-8859-1')\n",
    "\n",
    "climate_data.head()"
   ]
  },
  {
   "cell_type": "code",
   "execution_count": 39,
   "metadata": {
    "ExecuteTime": {
     "end_time": "2023-12-04T03:01:35.210655Z",
     "start_time": "2023-12-04T03:01:35.015190Z"
    }
   },
   "outputs": [],
   "source": [
    "def get_formatted_dates(data_slice, date_col, format: str):\n",
    "    return [\n",
    "        dt.strptime(date_str.split('T')[0], format)\n",
    "        for date_str in data_slice[date_col]\n",
    "    ]\n",
    "\n",
    "articles['parsed_date'] = get_formatted_dates(\n",
    "    articles,\n",
    "    'pub_date',\n",
    "    '%Y-%m-%d'\n",
    ")\n",
    "\n",
    "climate_data['parsed_date'] = get_formatted_dates(\n",
    "    climate_data,\n",
    "    'date',\n",
    "    '%Y-%m'\n",
    ")"
   ]
  },
  {
   "cell_type": "code",
   "execution_count": 40,
   "metadata": {
    "ExecuteTime": {
     "end_time": "2023-12-04T03:01:35.211361Z",
     "start_time": "2023-12-04T03:01:35.023949Z"
    }
   },
   "outputs": [
    {
     "name": "stdout",
     "output_type": "stream",
     "text": [
      "     state parsed_date   vader vader_discrete sentiment\n",
      "0  Alabama  2018-08-31 -0.6378       NEGATIVE  NEGATIVE\n",
      "1  Alabama  2018-08-29  0.9519       POSITIVE  POSITIVE\n",
      "2  Alabama  2018-09-04 -0.3612       NEGATIVE  NEGATIVE\n",
      "3  Alabama  2018-08-22  0.7579       POSITIVE  NEGATIVE\n",
      "4  Alabama  2018-09-26  0.7964       POSITIVE  POSITIVE\n",
      "5  Alabama  2018-08-30 -0.8074       NEGATIVE  POSITIVE\n",
      "6  Alabama  2018-09-21  0.9284       POSITIVE  POSITIVE\n",
      "7  Alabama  2018-09-30 -0.7650       NEGATIVE  NEGATIVE\n",
      "8  Alabama  2018-09-26  0.0997       POSITIVE  POSITIVE\n",
      "9  Alabama  2018-09-27  0.7670       POSITIVE  NEGATIVE\n",
      "2020-09-30 00:00:00\n",
      "2018-08-22 00:00:00\n"
     ]
    }
   ],
   "source": [
    "core_cols = [\n",
    "\t'state',\n",
    "\t'parsed_date',\n",
    "]\n",
    "\n",
    "article_cols = [\n",
    "\t'vader',\n",
    "\t'vader_discrete',\n",
    "\t'sentiment',\n",
    "]\n",
    "\n",
    "climate_cols = [\n",
    "\t'max_avg_temperature',\n",
    "\t'min_avg_temperature',\n",
    "\t'mean_temperature',\n",
    "\t'max_temperature',\n",
    "\t'min_temperature',\n",
    "\t'num_frost_days',\n",
    "\t'num_trop_nights',\n",
    "\t'max_1day_precipitation',\n",
    "\t'max_5day_cumulative_precipitation',\n",
    "\t'precipitation',\n",
    "]\n",
    "\n",
    "articles = articles[core_cols + article_cols]\n",
    "print(articles.head(10))\n",
    "\n",
    "print(articles['parsed_date'].max())\n",
    "print(articles['parsed_date'].min())"
   ]
  },
  {
   "cell_type": "code",
   "execution_count": 41,
   "metadata": {
    "ExecuteTime": {
     "end_time": "2023-12-04T03:01:39.999487Z",
     "start_time": "2023-12-04T03:01:35.034983Z"
    }
   },
   "outputs": [],
   "source": [
    "import warnings\n",
    "import math\n",
    "from statsmodels.tools.sm_exceptions import InfeasibleTestError\n",
    "\n",
    "warnings.filterwarnings('ignore')\n",
    "\n",
    "def run_grangers_causality(\n",
    "\tdata_slice: pd.DataFrame,\n",
    "\tclimate_cols: list,\n",
    "\tarticle_cols: list,\n",
    "\tmax_lags: int = 2\n",
    "):\n",
    "\tp_values = [[0] * len(article_cols) for _ in range(len(climate_cols))]\n",
    "\tfor i, c_col in enumerate(climate_cols):\n",
    "\t\tfor j, a_col in enumerate(article_cols):\n",
    "\t\t\ttest_slice = data_slice[[a_col, c_col]].dropna()\n",
    "\t\t\ttest_slice = test_slice[test_slice[a_col] != float('inf')]\n",
    "\t\t\ttest_slice = test_slice[test_slice[c_col] != float('inf')]\n",
    "\t\t\tbest_p_value = 1.0\n",
    "\t\t\ttry:\n",
    "\t\t\t\tresults = grangercausalitytests(\n",
    "\t\t\t\t\ttest_slice,\n",
    "\t\t\t\t\tmaxlag=max_lags,\n",
    "\t\t\t\t\tverbose=False\n",
    "\t\t\t\t)\n",
    "\t\t\t\tbest_p_value = min(\n",
    "\t\t\t\t\t[results[i][0]['ssr_chi2test'][1] for i in range(1, max_lags + 1)]\n",
    "\t\t\t\t)\n",
    "\t\t\t\tbest_p_value = round(best_p_value, 4)\n",
    "\t\t\texcept (InfeasibleTestError, ValueError):\n",
    "\t\t\t\tbest_p_value = 1.0\n",
    "\t\t\t\t\n",
    "\t\t\tp_values[i][j] = best_p_value\n",
    "\treturn pd.DataFrame(p_values, index=climate_cols, columns=article_cols)\n",
    "\n",
    "ALPHA = 0.05\n",
    "LOWER_BOUND = 0.005\n",
    "\n",
    "def analyze_state(state: str, output_file)-> None:\n",
    "\n",
    "\tstate_article_data = articles[articles['state'] == state].sort_values('parsed_date')\n",
    "\tpolarity_to_float = lambda polarity: 1.0 if polarity == 'POSITIVE' else -1.0\n",
    "\tstate_article_data['vader_discrete'] = state_article_data['vader_discrete'].apply(polarity_to_float)\n",
    "\tstate_article_data['sentiment'] = state_article_data['sentiment'].apply(polarity_to_float)\n",
    "\tstate_climate_data = climate_data[climate_data['state'] == state].sort_values('parsed_date')\n",
    "\n",
    "\tmerged_data = pd.merge_asof(\n",
    "\t\tstate_article_data,\n",
    "\t\tstate_climate_data,\n",
    "\t\ton='parsed_date',\n",
    "\t)\n",
    "\n",
    "\tclimate_diff_cols = []\n",
    "\tfor col in climate_cols:\n",
    "\t\tdiff_col = col + '_diff'\n",
    "\t\tmerged_data[diff_col] = merged_data[col].diff()\n",
    "\t\tclimate_diff_cols.append(diff_col)\n",
    "\n",
    "\tarticle_diff_cols = []\n",
    "\tfor col in article_cols:\n",
    "\t\tdiff_col = col + '_diff'\n",
    "\t\tmerged_data[diff_col] = merged_data[col].diff()\n",
    "\t\tarticle_diff_cols.append(diff_col)\n",
    "\n",
    "\tresults = run_grangers_causality(\n",
    "\t\tmerged_data,\n",
    "\t\tclimate_diff_cols,\n",
    "\t\tarticle_diff_cols,\n",
    "\t)\n",
    "\n",
    "\tprint(state, file=output_file)\n",
    "\tcount = 0\n",
    "\tfor predictor in results.index:\n",
    "\t\tfor observed in results.columns:\n",
    "\t\t\tp_value = results.loc[predictor, observed]\n",
    "\t\t\tif observed != 'vader_diff':\n",
    "\t\t\t\tcontinue\n",
    "\t\t\tif p_value < ALPHA:\n",
    "\t\t\t\tprint(f'\\t{predictor} forecasts {observed}, p value: {p_value} ', file=output_file)\n",
    "\t\t\t\tcount += 1\n",
    "\tif count == 0:\n",
    "\t\tprint('\\tno significant forecasting relationships identified', file=output_file)\n",
    "\n",
    "with open('forecast_results.txt', 'w') as output_file:\n",
    "\tfor state in articles['state'].unique():\n",
    "\t\tanalyze_state(state, output_file=output_file)"
   ]
  },
  {
   "cell_type": "code",
   "execution_count": 42,
   "outputs": [],
   "source": [
    "import pandas as pd\n",
    "results = {}\n",
    "with open('forecast_results.txt', 'r') as file:\n",
    "    current_state = None\n",
    "    for line in file:\n",
    "        line = line.strip()\n",
    "        if 'forecasts' in line or 'no significant forecasting relationships identified' in line:\n",
    "            if current_state not in results:\n",
    "                results[current_state] = {'Climate Data': [], 'P Values': [], 'Count': 0}\n",
    "\n",
    "            if 'no significant forecasting relationships identified' in line:\n",
    "                continue\n",
    "            else:\n",
    "                parts = line.split(', p value: ')\n",
    "                predictor, _ = parts[0].split(' forecasts ')\n",
    "                p_value = float(parts[1])\n",
    "                results[current_state]['Climate Data'].append(predictor)\n",
    "                results[current_state]['P Values'].append(p_value)\n",
    "                results[current_state]['Count'] += 1\n",
    "        else:\n",
    "            current_state = line\n",
    "\n",
    "results = pd.DataFrame.from_dict(results, orient='index')\n",
    "results.reset_index(inplace=True)\n",
    "results.rename(columns={'index': 'State'}, inplace=True)\n",
    "results.to_csv('/Users/ElenaPerego/Desktop/Columbia/Natural Language Processing/qmss-nlp-climate/data/results.csv')\n"
   ],
   "metadata": {
    "collapsed": false,
    "ExecuteTime": {
     "end_time": "2023-12-04T03:01:40.017632Z",
     "start_time": "2023-12-04T03:01:39.558145Z"
    }
   }
  },
  {
   "cell_type": "markdown",
   "source": [
    "# Comparing VADER and distilBERT"
   ],
   "metadata": {
    "collapsed": false
   }
  },
  {
   "cell_type": "code",
   "execution_count": 43,
   "outputs": [],
   "source": [
    "import warnings\n",
    "from statsmodels.tools.sm_exceptions import InfeasibleTestError\n",
    "\n",
    "warnings.filterwarnings('ignore')\n",
    "\n",
    "def run_grangers_causality(\n",
    "\tdata_slice: pd.DataFrame,\n",
    "\tclimate_cols: list,\n",
    "\tarticle_cols: list,\n",
    "\tmax_lags: int = 2\n",
    "):\n",
    "\tp_values = [[0] * len(article_cols) for _ in range(len(climate_cols))]\n",
    "\tfor i, c_col in enumerate(climate_cols):\n",
    "\t\tfor j, a_col in enumerate(article_cols):\n",
    "\t\t\ttest_slice = data_slice[[a_col, c_col]].dropna()\n",
    "\t\t\ttest_slice = test_slice[test_slice[a_col] != float('inf')]\n",
    "\t\t\ttest_slice = test_slice[test_slice[c_col] != float('inf')]\n",
    "\t\t\tbest_p_value = 1.0\n",
    "\t\t\ttry:\n",
    "\t\t\t\tresults = grangercausalitytests(\n",
    "\t\t\t\t\ttest_slice,\n",
    "\t\t\t\t\tmaxlag=max_lags,\n",
    "\t\t\t\t\tverbose=False\n",
    "\t\t\t\t)\n",
    "\t\t\t\tbest_p_value = min(\n",
    "\t\t\t\t\t[results[i][0]['ssr_chi2test'][1] for i in range(1, max_lags + 1)]\n",
    "\t\t\t\t)\n",
    "\t\t\t\tbest_p_value = round(best_p_value, 4)\n",
    "\t\t\texcept (InfeasibleTestError, ValueError):\n",
    "\t\t\t\tbest_p_value = 1.0\n",
    "\t\t\t\t\n",
    "\t\t\tp_values[i][j] = best_p_value\n",
    "\treturn pd.DataFrame(p_values, index=climate_cols, columns=article_cols)\n",
    "\n",
    "ALPHA = 0.05\n",
    "LOWER_BOUND = 0.005\n",
    "\n",
    "def analyze_state(state: str, output_file)-> None:\n",
    "\n",
    "\tstate_article_data = articles[articles['state'] == state].sort_values('parsed_date')\n",
    "\tpolarity_to_float = lambda polarity: 1.0 if polarity == 'POSITIVE' else 0.0 if polarity == 'NEUTRAL' else -1.0\n",
    "\tstate_article_data['vader_discrete'] = state_article_data['vader_discrete'].apply(polarity_to_float)\n",
    "\tstate_article_data['sentiment'] = state_article_data['sentiment'].apply(polarity_to_float)\n",
    "\tstate_climate_data = climate_data[climate_data['state'] == state].sort_values('parsed_date')\n",
    "\n",
    "\tmerged_data = pd.merge_asof(\n",
    "\t\tstate_article_data,\n",
    "\t\tstate_climate_data,\n",
    "\t\ton='parsed_date',\n",
    "\t)\n",
    "\n",
    "\tclimate_diff_cols = []\n",
    "\tfor col in climate_cols:\n",
    "\t\tdiff_col = col + '_diff'\n",
    "\t\tmerged_data[diff_col] = merged_data[col].diff()\n",
    "\t\tclimate_diff_cols.append(diff_col)\n",
    "\n",
    "\tarticle_diff_cols = []\n",
    "\tfor col in article_cols:\n",
    "\t\tdiff_col = col + '_diff'\n",
    "\t\tmerged_data[diff_col] = merged_data[col].diff()\n",
    "\t\tarticle_diff_cols.append(diff_col)\n",
    "\n",
    "\tresults = run_grangers_causality(\n",
    "\t\tmerged_data,\n",
    "\t\tclimate_diff_cols,\n",
    "\t\tarticle_diff_cols,\n",
    "\t)\n",
    "\n",
    "\tprint(state, file=output_file)\n",
    "\tcount = 0\n",
    "\tfor predictor in results.index:\n",
    "\t\tfor observed in results.columns:\n",
    "\t\t\tp_value = results.loc[predictor, observed]\n",
    "\t\t\tif observed == 'vader_diff':\n",
    "\t\t\t\tcontinue\n",
    "\t\t\tif p_value < ALPHA:\n",
    "\t\t\t\tprint(f'\\t{predictor} forecasts {observed}, p value: {p_value} ', file=output_file)\n",
    "\t\t\t\tcount += 1\n",
    "\tif count == 0:\n",
    "\t\tprint('\\tno significant forecasting relationships identified', file=output_file)\n",
    "\n",
    "\n",
    "with open('forecast_results_comparison.txt', 'w') as output_file:\n",
    "\tfor state in articles['state'].unique():\n",
    "\t\tanalyze_state(state, output_file=output_file)"
   ],
   "metadata": {
    "collapsed": false,
    "ExecuteTime": {
     "end_time": "2023-12-04T03:01:42.644792Z",
     "start_time": "2023-12-04T03:01:39.585354Z"
    }
   }
  },
  {
   "cell_type": "code",
   "execution_count": 44,
   "outputs": [],
   "source": [
    "with open('forecast_results_comparison.txt', 'r') as file:\n",
    "\tlines = file.readlines()\n",
    "\n",
    "\n",
    "data = []\n",
    "\n",
    "current_state = None\n",
    "climate_data_vader = []\n",
    "climate_data_distilBERT = []\n",
    "p_values_vader = []\n",
    "p_values_distilBERT = []\n",
    "\n",
    "def add_state_data():\n",
    "\tif current_state:\n",
    "\t\tdata.append({\n",
    "            'state': current_state,\n",
    "            'climate data VADER': ', '.join(climate_data_vader),\n",
    "            'p values VADER': ', '.join(p_values_vader),\n",
    "            'count VADER': len(climate_data_vader),\n",
    "            'climate data distilBERT': ', '.join(climate_data_distilBERT),\n",
    "            'p values distilBERT': ', '.join(p_values_distilBERT),\n",
    "            'count distilBERT': len(climate_data_distilBERT)\n",
    "        })\n",
    "\n",
    "for line in lines:\n",
    "\tif re.match(r'^[A-Za-z]+', line):\n",
    "\t\tadd_state_data()\n",
    "\t\tcurrent_state = line.split('\\n')[0]\n",
    "\t\tclimate_data_vader = []\n",
    "\t\tclimate_data_distilBERT = []\n",
    "\t\tp_values_vader = []\n",
    "\t\tp_values_distilBERT = []\n",
    "\telse:\n",
    "\t\tparts = line.strip().split(' ')\n",
    "\t\tif parts[0] == 'no':\n",
    "\t\t\tcurrent_state = None\n",
    "\t\telse:\n",
    "\t\t\tclimate_data = parts[0]\n",
    "\t\t\tp_value = parts[-1]\n",
    "\t\t\tif 'vader_discrete_diff,' in parts:\n",
    "\t\t\t\tclimate_data_vader.append(climate_data)\n",
    "\t\t\t\tp_values_vader.append(p_value)\n",
    "\t\t\telse:\n",
    "\t\t\t\tclimate_data_distilBERT.append(climate_data)\n",
    "\t\t\t\tp_values_distilBERT.append(p_value)\n",
    "\n",
    "add_state_data()\n",
    "df = pd.DataFrame(data)\n",
    "df = df.replace({'': 'None', '[]': '0'})\n",
    "df.to_csv('/Users/ElenaPerego/Desktop/Columbia/Natural Language Processing/qmss-nlp-climate/data/results_comparison.csv')"
   ],
   "metadata": {
    "collapsed": false,
    "ExecuteTime": {
     "end_time": "2023-12-04T03:01:42.646868Z",
     "start_time": "2023-12-04T03:01:42.614816Z"
    }
   }
  }
 ],
 "metadata": {
  "kernelspec": {
   "display_name": "Python 3",
   "language": "python",
   "name": "python3"
  },
  "language_info": {
   "codemirror_mode": {
    "name": "ipython",
    "version": 3
   },
   "file_extension": ".py",
   "mimetype": "text/x-python",
   "name": "python",
   "nbconvert_exporter": "python",
   "pygments_lexer": "ipython3",
   "version": "3.11.5"
  }
 },
 "nbformat": 4,
 "nbformat_minor": 2
}
